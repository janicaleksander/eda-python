{
 "cells": [
  {
   "cell_type": "code",
   "id": "initial_id",
   "metadata": {
    "collapsed": true
   },
   "source": [
    "import pandas as pd\n",
    "from sklearn.compose import ColumnTransformer\n",
    "from sklearn.ensemble import RandomForestRegressor, RandomForestClassifier\n",
    "from sklearn.metrics import accuracy_score, classification_report\n",
    "from sklearn.model_selection import train_test_split\n",
    "from sklearn.preprocessing import LabelEncoder, OneHotEncoder, StandardScaler\n",
    "from sklearn.impute import SimpleImputer\n",
    "from sklearn.pipeline import Pipeline\n",
    "from sklearn.tree import DecisionTreeClassifier\n",
    "from sklearn.linear_model  import LogisticRegression\n",
    "from sklearn.svm import SVC\n"
   ],
   "outputs": [],
   "execution_count": null
  },
  {
   "metadata": {},
   "cell_type": "markdown",
   "source": "I. Data preparation",
   "id": "47f8b2112f9d9f99"
  },
  {
   "metadata": {},
   "cell_type": "code",
   "source": [
    "# Loading data\n",
    "df = pd.read_csv(\"dataset.csv\")\n",
    "df.head()"
   ],
   "id": "c237706bdf749364",
   "outputs": [],
   "execution_count": null
  },
  {
   "metadata": {},
   "cell_type": "code",
   "source": "df.info()",
   "id": "a1d835750a6c83a3",
   "outputs": [],
   "execution_count": null
  },
  {
   "metadata": {},
   "cell_type": "code",
   "source": [
    "df.isnull().sum()\n",
    "# We don't have any null values in dataset, but to be safe still we will be using imputer in pipelines"
   ],
   "id": "1b144dae09bdf33f",
   "outputs": [],
   "execution_count": null
  },
  {
   "metadata": {},
   "cell_type": "code",
   "source": [
    "# Divide dataset on features set and target\n",
    "X = df.drop([\"Target\"],axis=1)\n",
    "df[\"Target\"] = LabelEncoder().fit_transform(df[\"Target\"])\n",
    "y = df[\"Target\"]\n",
    "\n"
   ],
   "id": "e180c7bc9d12d48f",
   "outputs": [],
   "execution_count": null
  },
  {
   "metadata": {},
   "cell_type": "code",
   "source": [
    "numerical_features = [\n",
    "    \"Application order\",\"Age at enrollment\", \"Curricular units 1st sem (credited)\", \"Curricular units 1st sem (enrolled)\",\n",
    "    \"Curricular units 1st sem (evaluations)\",\"Curricular units 1st sem (approved)\",\"Curricular units 1st sem (grade)\",\n",
    "    \"Curricular units 1st sem (without evaluations)\",\"Curricular units 2nd sem (credited)\",\"Curricular units 2nd sem (enrolled)\",\n",
    "    \"Curricular units 2nd sem (evaluations)\",\"Curricular units 2nd sem (approved)\", \"Curricular units 2nd sem (grade)\",\n",
    "    \"Curricular units 2nd sem (without evaluations)\",\"Unemployment rate\",\"Inflation rate\",\"GDP\"\n",
    "]\n",
    "categorical_features = [\n",
    "    \"Marital status\",\"Application mode\",\"Course\",\"Daytime/evening attendance\",\"Previous qualification\",\"Nationality\",\n",
    "    \"Mother's qualification\",\"Father's qualification\",\"Mother's occupation\",\"Father's occupation\",\"Displaced\",\n",
    "    \"Educational special needs\",\"Debtor\",\"Tuition fees up to date\",\"Gender\",\"Scholarship holder\",\"International\",\n",
    "]\n"
   ],
   "id": "23dedd30f1de8e90",
   "outputs": [],
   "execution_count": null
  },
  {
   "metadata": {},
   "cell_type": "markdown",
   "source": "II. Pipelines",
   "id": "351cdaba0ea5b201"
  },
  {
   "metadata": {},
   "cell_type": "code",
   "source": [
    "numerical_pipeline = Pipeline([\n",
    "    ('imputer',SimpleImputer(strategy='median')),\n",
    "    ('scaler',StandardScaler())\n",
    "])\n",
    "\n",
    "categorical_pipeline = Pipeline([\n",
    "    ('imputer',SimpleImputer(strategy='most_frequent')),\n",
    "    ('onehot',OneHotEncoder(handle_unknown='ignore'))\n",
    "])"
   ],
   "id": "7f2fff8b00c3a74f",
   "outputs": [],
   "execution_count": null
  },
  {
   "metadata": {},
   "cell_type": "code",
   "source": [
    "preprocessor = ColumnTransformer([\n",
    "    ('num',numerical_pipeline,numerical_features),\n",
    "    ('cat',categorical_pipeline,categorical_features)\n",
    "])\n"
   ],
   "id": "8649bad9f78a51f8",
   "outputs": [],
   "execution_count": null
  },
  {
   "metadata": {},
   "cell_type": "code",
   "source": [
    "# Regression pipeline\n",
    "regression_pipeline = Pipeline([\n",
    "    ('preprocessor',preprocessor),\n",
    "    ('model',LogisticRegression(max_iter=1000))\n",
    "])"
   ],
   "id": "defe132cfad97407",
   "outputs": [],
   "execution_count": null
  },
  {
   "metadata": {},
   "cell_type": "code",
   "source": [
    "# Random forest pipeline\n",
    "random_forest_pipeline = Pipeline([\n",
    "    ('preprocessor',preprocessor),\n",
    "    ('model',RandomForestClassifier(n_estimators=300))\n",
    "])"
   ],
   "id": "76062740454cad49",
   "outputs": [],
   "execution_count": null
  },
  {
   "metadata": {},
   "cell_type": "code",
   "source": [
    "# SVR pipeline\n",
    "svr_pipeline = Pipeline([\n",
    "    ('preprocessor',preprocessor),\n",
    "    ('model',SVC(decision_function_shape='ovo'))\n",
    "])"
   ],
   "id": "3a0ae92ef03d036b",
   "outputs": [],
   "execution_count": null
  },
  {
   "metadata": {},
   "cell_type": "code",
   "source": [
    "# Decision tree pipeline\n",
    "decision_tree_pipeline = Pipeline([\n",
    "    ('preprocessor',preprocessor),\n",
    "    ('model',DecisionTreeClassifier(max_depth=17))\n",
    "])"
   ],
   "id": "7223f4d12c2f437b",
   "outputs": [],
   "execution_count": null
  },
  {
   "metadata": {},
   "cell_type": "markdown",
   "source": "III. Training model\n",
   "id": "2a931f0bbd56fa34"
  },
  {
   "metadata": {},
   "cell_type": "code",
   "source": "X_train,X_test,y_train,y_test =train_test_split(X,y,random_state=42,test_size=0.3)",
   "id": "40bf52338d61668e",
   "outputs": [],
   "execution_count": null
  },
  {
   "metadata": {},
   "cell_type": "code",
   "source": [
    "regression_pipeline.fit(X_train,y_train)\n",
    "y_pred = regression_pipeline.predict(X_test)\n",
    "print(\"Accuracy:\", accuracy_score(y_test, y_pred))\n",
    "print(\"Classification Report:\\n\", classification_report(y_test, y_pred))\n"
   ],
   "id": "ccf7e540fee97746",
   "outputs": [],
   "execution_count": null
  },
  {
   "metadata": {},
   "cell_type": "code",
   "source": [
    "random_forest_pipeline.fit(X_train,y_train)\n",
    "y_pred = random_forest_pipeline.predict(X_test)\n",
    "print(\"Accuracy:\", accuracy_score(y_test, y_pred))\n",
    "print(\"Classification Report:\\n\", classification_report(y_test, y_pred))"
   ],
   "id": "abd1d85a3354b7b9",
   "outputs": [],
   "execution_count": null
  },
  {
   "metadata": {},
   "cell_type": "code",
   "source": [
    "svr_pipeline.fit(X_train,y_train)\n",
    "y_pred = svr_pipeline.predict(X_test)\n",
    "print(\"Accuracy:\", accuracy_score(y_test, y_pred))\n",
    "print(\"Classification Report:\\n\", classification_report(y_test, y_pred))"
   ],
   "id": "43fda00b862afb3c",
   "outputs": [],
   "execution_count": null
  },
  {
   "metadata": {},
   "cell_type": "code",
   "source": [
    "decision_tree_pipeline.fit(X_train,y_train)\n",
    "y_pred = decision_tree_pipeline.predict(X_test)\n",
    "print(\"Accuracy:\", accuracy_score(y_test, y_pred))\n",
    "print(\"Classification Report:\\n\", classification_report(y_test, y_pred))"
   ],
   "id": "156472be76435465",
   "outputs": [],
   "execution_count": null
  }
 ],
 "metadata": {
  "kernelspec": {
   "display_name": "Python 3",
   "language": "python",
   "name": "python3"
  },
  "language_info": {
   "codemirror_mode": {
    "name": "ipython",
    "version": 2
   },
   "file_extension": ".py",
   "mimetype": "text/x-python",
   "name": "python",
   "nbconvert_exporter": "python",
   "pygments_lexer": "ipython2",
   "version": "2.7.6"
  }
 },
 "nbformat": 4,
 "nbformat_minor": 5
}
