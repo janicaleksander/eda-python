{
 "nbformat": 4,
 "nbformat_minor": 0,
 "metadata": {
  "colab": {
   "provenance": []
  },
  "kernelspec": {
   "name": "python3",
   "display_name": "Python 3 (ipykernel)",
   "language": "python"
  },
  "language_info": {
   "name": "python"
  }
 },
 "cells": [
  {
   "cell_type": "code",
   "metadata": {
    "colab": {
     "base_uri": "https://localhost:8080/"
    },
    "id": "83qge7btX2KF",
    "outputId": "7835ebc0-8f49-4f24-f42a-891f50d78af8"
   },
   "source": [
    "import torch\n",
    "print(torch.cuda.is_available())\n",
    "\n",
    "import torch.nn as nn\n",
    "import torch.nn.functional as F\n",
    "from torch.utils.data import TensorDataset, DataLoader\n",
    "from torch.utils.data import DataLoader\n",
    "import pandas as pd\n",
    "import numpy as np\n",
    "from sklearn.model_selection import train_test_split\n",
    "import matplotlib.pyplot as plt\n",
    "from sklearn.preprocessing import LabelEncoder, OneHotEncoder, StandardScaler\n",
    "from sklearn.compose import ColumnTransformer\n",
    "import time\n",
    "\n"
   ],
   "outputs": [],
   "execution_count": null
  },
  {
   "cell_type": "code",
   "source": [
    "df = pd.read_csv('dataset.csv')\n",
    "df.head()"
   ],
   "metadata": {
    "colab": {
     "base_uri": "https://localhost:8080/",
     "height": 308
    },
    "id": "abILihux1m3P",
    "outputId": "fc5e131a-1309-4213-8510-82ce5bed143c"
   },
   "outputs": [],
   "execution_count": null
  },
  {
   "cell_type": "code",
   "source": [
    "numerical_features = [\n",
    "    \"Application order\",\"Age at enrollment\", \"Curricular units 1st sem (credited)\", \"Curricular units 1st sem (enrolled)\",\n",
    "    \"Curricular units 1st sem (evaluations)\",\"Curricular units 1st sem (approved)\",\"Curricular units 1st sem (grade)\",\n",
    "    \"Curricular units 1st sem (without evaluations)\",\"Curricular units 2nd sem (credited)\",\"Curricular units 2nd sem (enrolled)\",\n",
    "    \"Curricular units 2nd sem (evaluations)\",\"Curricular units 2nd sem (approved)\",\n",
    "    \"Curricular units 2nd sem (without evaluations)\",\"Unemployment rate\",\"Inflation rate\",\"GDP\",\"Curricular units 2nd sem (grade)\"\n",
    "]\n",
    "categorical_features = [\n",
    "    \"Marital status\",\"Application mode\",\"Course\",\"Daytime/evening attendance\",\"Previous qualification\",\"Nationality\",\n",
    "    \"Mother's qualification\",\"Father's qualification\",\"Mother's occupation\",\"Father's occupation\",\"Displaced\",\n",
    "    \"Educational special needs\",\"Debtor\",\"Tuition fees up to date\",\"Gender\",\"Scholarship holder\",\"International\"\n",
    "]\n"
   ],
   "metadata": {
    "id": "MExHCW902tVx"
   },
   "outputs": [],
   "execution_count": null
  },
  {
   "cell_type": "code",
   "source": [
    "X = df.drop(['Target'],axis=1)\n",
    "y = LabelEncoder().fit_transform(df['Target'])\n",
    "\n",
    "preprocessor = ColumnTransformer([\n",
    "    ('num',StandardScaler(),numerical_features),\n",
    "    ('cat',OneHotEncoder(handle_unknown='ignore',sparse_output=False),categorical_features)\n",
    "])\n",
    "\n",
    "X_train, X_test, y_train, y_test = train_test_split(X,y,train_size =0.8,random_state=42)\n",
    "\n",
    "X_train_processed = preprocessor.fit_transform(X_train)\n",
    "X_test_processed = preprocessor.transform(X_test)\n",
    "\n"
   ],
   "metadata": {
    "id": "JvGCAkPk3MGR"
   },
   "outputs": [],
   "execution_count": null
  },
  {
   "cell_type": "code",
   "source": [
    "X_train_processed.shape, X_test_processed.shape, y_train.shape"
   ],
   "metadata": {
    "colab": {
     "base_uri": "https://localhost:8080/"
    },
    "id": "ZuF3qicS5kLV",
    "outputId": "66a7cd68-4017-482f-b16f-68ec009a8488"
   },
   "outputs": [],
   "execution_count": null
  },
  {
   "cell_type": "code",
   "source": [
    "class_num = len(np.unique(y_train))\n",
    "class_num"
   ],
   "metadata": {
    "colab": {
     "base_uri": "https://localhost:8080/"
    },
    "id": "1KhNEavW50Jx",
    "outputId": "62fdc84e-026b-4d55-d36e-51d6ad477de4"
   },
   "outputs": [],
   "execution_count": null
  },
  {
   "cell_type": "code",
   "source": [
    "X_train_tensor = torch.tensor(X_train_processed,dtype=torch.float32)\n",
    "X_test_tensor = torch.tensor(X_test_processed,dtype=torch.float32)\n",
    "y_train_tensor = torch.tensor(y_train,dtype=torch.torch.long)\n",
    "y_test_tensor = torch.tensor(y_test,dtype=torch.long)\n",
    "\n"
   ],
   "metadata": {
    "id": "ZhW1-gQk8aix"
   },
   "outputs": [],
   "execution_count": null
  },
  {
   "cell_type": "code",
   "source": [
    "class MultiClassModel(nn.Module):\n",
    "  def __init__(self,input_features_size,classes_num):\n",
    "    super(MultiClassModel,self).__init__()\n",
    "    self.linear = nn.Linear(input_features_size,classes_num)\n",
    "\n",
    "  def forward(self, x):\n",
    "      logits = self.linear(x)\n",
    "      return logits\n",
    "\n",
    "\n"
   ],
   "metadata": {
    "id": "l0jAD4i89MFe"
   },
   "outputs": [],
   "execution_count": null
  },
  {
   "cell_type": "code",
   "source": [
    "input_size = X_train_processed.shape[1]\n",
    "classes_num = len(np.unique(y_train))"
   ],
   "metadata": {
    "id": "E9D10yov9NtI"
   },
   "outputs": [],
   "execution_count": null
  },
  {
   "cell_type": "code",
   "source": [
    "clf = MultiClassModel(input_size,classes_num)\n",
    "device = 'cuda' if torch.cuda.is_available() else 'cpu'\n",
    "clf = clf.to(device)\n",
    "\n",
    "\n",
    "optimizer = torch.optim.Adam(clf.parameters(),lr=0.001)\n",
    "X_train_tensor = X_train_tensor.to(device)\n",
    "X_test_tensor = X_test_tensor.to(device)\n",
    "y_train_tensor = y_train_tensor.to(device)\n",
    "y_test_tensor = y_test_tensor.to(device)"
   ],
   "metadata": {
    "id": "_Q8IlxILLWzx"
   },
   "outputs": [],
   "execution_count": null
  },
  {
   "cell_type": "code",
   "source": [
    "# model training\n",
    "def fit(X,y,n_iters=2000,batch_size=64):\n",
    "  errors = []\n",
    "  dataset = TensorDataset(X,y)\n",
    "  loader = DataLoader(dataset,batch_size=batch_size,shuffle=True)\n",
    "  for i in range(n_iters):\n",
    "    for X_batch, y_batch in loader:\n",
    "      optimizer.zero_grad()\n",
    "      logits = clf(X_batch)\n",
    "      loss = F.cross_entropy(logits,y_batch)\n",
    "      loss.backward()\n",
    "      optimizer.step()\n",
    "    with torch.no_grad():\n",
    "      full_logits = clf(X)\n",
    "      full_loss = F.cross_entropy(full_logits,y)\n",
    "      errors.append(full_loss.item())\n",
    "\n",
    "    if i % 100 == 0:\n",
    "      print(f\"Iter {i}, Loss: {loss:.4f}\")\n",
    "  plt.plot(np.arange(len(errors)), errors)\n",
    "  plt.show()\n",
    "\n",
    "def accuracy(X, y):\n",
    "    with torch.inference_mode():\n",
    "        logits = clf(X)\n",
    "        _, predicted = torch.max(logits, dim=1)\n",
    "        acc = (predicted == y).sum().item() / len(y)\n",
    "        print(f'Accuracy: {acc * 100:.2f}%')\n"
   ],
   "metadata": {
    "id": "viKJIhj4LoIB"
   },
   "outputs": [],
   "execution_count": null
  },
  {
   "cell_type": "code",
   "source": [
    "start_time = time.time()\n",
    "fit(X_train_tensor,y_train_tensor)\n",
    "end_time = time.time()\n",
    "elapsed_time = end_time - start_time\n",
    "print(elapsed_time)"
   ],
   "metadata": {
    "colab": {
     "base_uri": "https://localhost:8080/",
     "height": 795
    },
    "id": "BOkLvskaM6X_",
    "outputId": "b9f4bfb3-ad10-4bda-da87-b63c013ce430"
   },
   "outputs": [],
   "execution_count": null
  },
  {
   "cell_type": "code",
   "source": "accuracy(X_test_tensor,y_test_tensor)",
   "metadata": {
    "id": "C5z2n1I5koKV",
    "colab": {
     "base_uri": "https://localhost:8080/"
    },
    "outputId": "679a4c63-6884-41be-bee8-b88db71109e8"
   },
   "outputs": [],
   "execution_count": null
  },
  {
   "cell_type": "code",
   "source": "accuracy(X_train_tensor,y_train_tensor)\n",
   "metadata": {
    "id": "9pJizlyslLsk",
    "colab": {
     "base_uri": "https://localhost:8080/"
    },
    "outputId": "11444768-ea3a-4faf-98a3-b1b8027351a2"
   },
   "outputs": [],
   "execution_count": null
  },
  {
   "cell_type": "markdown",
   "source": [
    "Accuracy: 75,48% (test_case)\n",
    "\n",
    "\n",
    "Accuracy: 81.80% (train_case)\n",
    "\n"
   ],
   "metadata": {
    "id": "YDMtWBLQ1At7"
   }
  },
  {
   "cell_type": "markdown",
   "source": [
    "Without CUDA T4:\n",
    "Time:106s"
   ],
   "metadata": {
    "id": "I2UZawGG2JKL"
   }
  },
  {
   "cell_type": "markdown",
   "source": [
    "With CUDA T4: Time:89s"
   ],
   "metadata": {
    "id": "LH9c2ASw2UEn"
   }
  }
 ]
}
