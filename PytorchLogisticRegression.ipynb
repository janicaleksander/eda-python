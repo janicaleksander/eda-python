{
 "nbformat": 4,
 "nbformat_minor": 0,
 "metadata": {
  "colab": {
   "provenance": []
  },
  "kernelspec": {
   "name": "python3",
   "display_name": "Python 3 (ipykernel)",
   "language": "python"
  },
  "language_info": {
   "name": "python"
  }
 },
 "cells": [
  {
   "cell_type": "code",
   "metadata": {
    "colab": {
     "base_uri": "https://localhost:8080/"
    },
    "id": "83qge7btX2KF",
    "outputId": "7835ebc0-8f49-4f24-f42a-891f50d78af8",
    "ExecuteTime": {
     "end_time": "2025-05-08T18:37:22.826996Z",
     "start_time": "2025-05-08T18:37:22.632942Z"
    }
   },
   "source": [
    "import torch\n",
    "print(torch.cuda.is_available())\n",
    "\n",
    "import torch.nn as nn\n",
    "import torch.nn.functional as F\n",
    "from torch.utils.data import TensorDataset, DataLoader\n",
    "from torch.utils.data import DataLoader\n",
    "import pandas as pd\n",
    "import numpy as np\n",
    "from sklearn.model_selection import train_test_split\n",
    "import matplotlib.pyplot as plt\n",
    "from sklearn.preprocessing import LabelEncoder, OneHotEncoder, StandardScaler\n",
    "from sklearn.compose import ColumnTransformer\n",
    "import time\n",
    "\n"
   ],
   "outputs": [
    {
     "ename": "ImportError",
     "evalue": "Failed to load PyTorch C extensions:\n    It appears that PyTorch has loaded the `torch/_C` folder\n    of the PyTorch repository rather than the C extensions which\n    are expected in the `torch._C` namespace. This can occur when\n    using the `install` workflow. e.g.\n        $ python setup.py install && python -c \"import torch\"\n\n    This error can generally be solved using the `develop` workflow\n        $ python setup.py develop && python -c \"import torch\"  # This should succeed\n    or by running Python from a different directory.",
     "output_type": "error",
     "traceback": [
      "\u001B[31m---------------------------------------------------------------------------\u001B[39m",
      "\u001B[31mImportError\u001B[39m                               Traceback (most recent call last)",
      "\u001B[36mCell\u001B[39m\u001B[36m \u001B[39m\u001B[32mIn[4]\u001B[39m\u001B[32m, line 1\u001B[39m\n\u001B[32m----> \u001B[39m\u001B[32m1\u001B[39m \u001B[38;5;28;01mimport\u001B[39;00m\u001B[38;5;250m \u001B[39m\u001B[34;01mtorch\u001B[39;00m\n\u001B[32m      2\u001B[39m \u001B[38;5;28mprint\u001B[39m(torch.cuda.is_available())\n\u001B[32m      4\u001B[39m \u001B[38;5;28;01mimport\u001B[39;00m\u001B[38;5;250m \u001B[39m\u001B[34;01mtorch\u001B[39;00m\u001B[34;01m.\u001B[39;00m\u001B[34;01mnn\u001B[39;00m\u001B[38;5;250m \u001B[39m\u001B[38;5;28;01mas\u001B[39;00m\u001B[38;5;250m \u001B[39m\u001B[34;01mnn\u001B[39;00m\n",
      "\u001B[36mFile \u001B[39m\u001B[32m~\\anaconda3\\envs\\msid_lista_1\\Lib\\site-packages\\torch\\__init__.py:898\u001B[39m\n\u001B[32m    896\u001B[39m     \u001B[38;5;66;03m# The __file__ check only works for Python 3.7 and above.\u001B[39;00m\n\u001B[32m    897\u001B[39m     \u001B[38;5;28;01mif\u001B[39;00m _C_for_compiled_check.\u001B[34m__file__\u001B[39m \u001B[38;5;129;01mis\u001B[39;00m \u001B[38;5;28;01mNone\u001B[39;00m:\n\u001B[32m--> \u001B[39m\u001B[32m898\u001B[39m         \u001B[38;5;28;01mraise\u001B[39;00m \u001B[38;5;167;01mImportError\u001B[39;00m(\n\u001B[32m    899\u001B[39m             textwrap.dedent(\n\u001B[32m    900\u001B[39m \u001B[38;5;250m                \u001B[39m\u001B[33;03m\"\"\"\u001B[39;00m\n\u001B[32m    901\u001B[39m \u001B[33;03m                Failed to load PyTorch C extensions:\u001B[39;00m\n\u001B[32m    902\u001B[39m \u001B[33;03m                    It appears that PyTorch has loaded the `torch/_C` folder\u001B[39;00m\n\u001B[32m    903\u001B[39m \u001B[33;03m                    of the PyTorch repository rather than the C extensions which\u001B[39;00m\n\u001B[32m    904\u001B[39m \u001B[33;03m                    are expected in the `torch._C` namespace. This can occur when\u001B[39;00m\n\u001B[32m    905\u001B[39m \u001B[33;03m                    using the `install` workflow. e.g.\u001B[39;00m\n\u001B[32m    906\u001B[39m \u001B[33;03m                        $ python setup.py install && python -c \"import torch\"\u001B[39;00m\n\u001B[32m    907\u001B[39m \n\u001B[32m    908\u001B[39m \u001B[33;03m                    This error can generally be solved using the `develop` workflow\u001B[39;00m\n\u001B[32m    909\u001B[39m \u001B[33;03m                        $ python setup.py develop && python -c \"import torch\"  # This should succeed\u001B[39;00m\n\u001B[32m    910\u001B[39m \u001B[33;03m                    or by running Python from a different directory.\u001B[39;00m\n\u001B[32m    911\u001B[39m \u001B[33;03m                \"\"\"\u001B[39;00m\n\u001B[32m    912\u001B[39m             ).strip()\n\u001B[32m    913\u001B[39m         ) \u001B[38;5;28;01mfrom\u001B[39;00m\u001B[38;5;250m \u001B[39m\u001B[38;5;28;01mNone\u001B[39;00m\n\u001B[32m    914\u001B[39m     \u001B[38;5;28;01mraise\u001B[39;00m  \u001B[38;5;66;03m# If __file__ is not None the cause is unknown, so just re-raise.\u001B[39;00m\n\u001B[32m    916\u001B[39m \u001B[38;5;66;03m# The torch._C submodule is already loaded via `from torch._C import *` above\u001B[39;00m\n\u001B[32m    917\u001B[39m \u001B[38;5;66;03m# Make an explicit reference to the _C submodule to appease linters\u001B[39;00m\n",
      "\u001B[31mImportError\u001B[39m: Failed to load PyTorch C extensions:\n    It appears that PyTorch has loaded the `torch/_C` folder\n    of the PyTorch repository rather than the C extensions which\n    are expected in the `torch._C` namespace. This can occur when\n    using the `install` workflow. e.g.\n        $ python setup.py install && python -c \"import torch\"\n\n    This error can generally be solved using the `develop` workflow\n        $ python setup.py develop && python -c \"import torch\"  # This should succeed\n    or by running Python from a different directory."
     ]
    }
   ],
   "execution_count": 4
  },
  {
   "cell_type": "code",
   "source": [
    "df = pd.read_csv('dataset.csv')\n",
    "df.head()"
   ],
   "metadata": {
    "colab": {
     "base_uri": "https://localhost:8080/",
     "height": 308
    },
    "id": "abILihux1m3P",
    "outputId": "fc5e131a-1309-4213-8510-82ce5bed143c",
    "ExecuteTime": {
     "end_time": "2025-05-08T18:37:18.695937Z",
     "start_time": "2025-05-08T18:37:18.653229Z"
    }
   },
   "outputs": [
    {
     "ename": "NameError",
     "evalue": "name 'pd' is not defined",
     "output_type": "error",
     "traceback": [
      "\u001B[31m---------------------------------------------------------------------------\u001B[39m",
      "\u001B[31mNameError\u001B[39m                                 Traceback (most recent call last)",
      "\u001B[36mCell\u001B[39m\u001B[36m \u001B[39m\u001B[32mIn[3]\u001B[39m\u001B[32m, line 1\u001B[39m\n\u001B[32m----> \u001B[39m\u001B[32m1\u001B[39m df = \u001B[43mpd\u001B[49m.read_csv(\u001B[33m'\u001B[39m\u001B[33mdataset.csv\u001B[39m\u001B[33m'\u001B[39m)\n\u001B[32m      2\u001B[39m df.head()\n",
      "\u001B[31mNameError\u001B[39m: name 'pd' is not defined"
     ]
    }
   ],
   "execution_count": 3
  },
  {
   "cell_type": "code",
   "source": [
    "numerical_features = [\n",
    "    \"Application order\",\"Age at enrollment\", \"Curricular units 1st sem (credited)\", \"Curricular units 1st sem (enrolled)\",\n",
    "    \"Curricular units 1st sem (evaluations)\",\"Curricular units 1st sem (approved)\",\"Curricular units 1st sem (grade)\",\n",
    "    \"Curricular units 1st sem (without evaluations)\",\"Curricular units 2nd sem (credited)\",\"Curricular units 2nd sem (enrolled)\",\n",
    "    \"Curricular units 2nd sem (evaluations)\",\"Curricular units 2nd sem (approved)\",\n",
    "    \"Curricular units 2nd sem (without evaluations)\",\"Unemployment rate\",\"Inflation rate\",\"GDP\",\"Curricular units 2nd sem (grade)\"\n",
    "]\n",
    "categorical_features = [\n",
    "    \"Marital status\",\"Application mode\",\"Course\",\"Daytime/evening attendance\",\"Previous qualification\",\"Nationality\",\n",
    "    \"Mother's qualification\",\"Father's qualification\",\"Mother's occupation\",\"Father's occupation\",\"Displaced\",\n",
    "    \"Educational special needs\",\"Debtor\",\"Tuition fees up to date\",\"Gender\",\"Scholarship holder\",\"International\"\n",
    "]\n"
   ],
   "metadata": {
    "id": "MExHCW902tVx"
   },
   "execution_count": 4,
   "outputs": []
  },
  {
   "cell_type": "code",
   "source": [
    "X = df.drop(['Target'],axis=1)\n",
    "y = LabelEncoder().fit_transform(df['Target'])\n",
    "\n",
    "preprocessor = ColumnTransformer([\n",
    "    ('num',StandardScaler(),numerical_features),\n",
    "    ('cat',OneHotEncoder(handle_unknown='ignore',sparse_output=False),categorical_features)\n",
    "])\n",
    "\n",
    "X_train, X_test, y_train, y_test = train_test_split(X,y,train_size =0.8,random_state=42)\n",
    "\n",
    "X_train_processed = preprocessor.fit_transform(X_train)\n",
    "X_test_processed = preprocessor.transform(X_test)\n",
    "\n"
   ],
   "metadata": {
    "id": "JvGCAkPk3MGR"
   },
   "execution_count": 5,
   "outputs": []
  },
  {
   "cell_type": "code",
   "source": [
    "X_train_processed.shape, X_test_processed.shape, y_train.shape"
   ],
   "metadata": {
    "colab": {
     "base_uri": "https://localhost:8080/"
    },
    "id": "ZuF3qicS5kLV",
    "outputId": "66a7cd68-4017-482f-b16f-68ec009a8488"
   },
   "execution_count": 6,
   "outputs": [
    {
     "output_type": "execute_result",
     "data": {
      "text/plain": [
       "((3539, 247), (885, 247), (3539,))"
      ]
     },
     "metadata": {},
     "execution_count": 6
    }
   ]
  },
  {
   "cell_type": "code",
   "source": [
    "class_num = len(np.unique(y_train))\n",
    "class_num"
   ],
   "metadata": {
    "colab": {
     "base_uri": "https://localhost:8080/"
    },
    "id": "1KhNEavW50Jx",
    "outputId": "62fdc84e-026b-4d55-d36e-51d6ad477de4"
   },
   "execution_count": 7,
   "outputs": [
    {
     "output_type": "execute_result",
     "data": {
      "text/plain": [
       "3"
      ]
     },
     "metadata": {},
     "execution_count": 7
    }
   ]
  },
  {
   "cell_type": "code",
   "source": [
    "X_train_tensor = torch.tensor(X_train_processed,dtype=torch.float32)\n",
    "X_test_tensor = torch.tensor(X_test_processed,dtype=torch.float32)\n",
    "y_train_tensor = torch.tensor(y_train,dtype=torch.torch.long)\n",
    "y_test_tensor = torch.tensor(y_test,dtype=torch.long)\n",
    "\n"
   ],
   "metadata": {
    "id": "ZhW1-gQk8aix"
   },
   "execution_count": 8,
   "outputs": []
  },
  {
   "cell_type": "code",
   "source": [
    "class MultiClassModel(nn.Module):\n",
    "  def __init__(self,input_features_size,classes_num):\n",
    "    super(MultiClassModel,self).__init__()\n",
    "    self.linear = nn.Linear(input_features_size,classes_num)\n",
    "\n",
    "  def forward(self, x):\n",
    "      logits = self.linear(x)\n",
    "      return logits\n",
    "\n",
    "\n"
   ],
   "metadata": {
    "id": "l0jAD4i89MFe"
   },
   "execution_count": 9,
   "outputs": []
  },
  {
   "cell_type": "code",
   "source": [
    "input_size = X_train_processed.shape[1]\n",
    "classes_num = len(np.unique(y_train))"
   ],
   "metadata": {
    "id": "E9D10yov9NtI"
   },
   "execution_count": 10,
   "outputs": []
  },
  {
   "cell_type": "code",
   "source": [
    "clf = MultiClassModel(input_size,classes_num)\n",
    "device = 'cuda' if torch.cuda.is_available() else 'cpu'\n",
    "clf = clf.to(device)\n",
    "\n",
    "\n",
    "optimizer = torch.optim.Adam(clf.parameters(),lr=0.001)\n",
    "X_train_tensor = X_train_tensor.to(device)\n",
    "X_test_tensor = X_test_tensor.to(device)\n",
    "y_train_tensor = y_train_tensor.to(device)\n",
    "y_test_tensor = y_test_tensor.to(device)"
   ],
   "metadata": {
    "id": "_Q8IlxILLWzx"
   },
   "execution_count": 11,
   "outputs": []
  },
  {
   "cell_type": "code",
   "source": [
    "# model training\n",
    "def fit(X,y,n_iters=2000,batch_size=64):\n",
    "  errors = []\n",
    "  dataset = TensorDataset(X,y)\n",
    "  loader = DataLoader(dataset,batch_size=batch_size,shuffle=True)\n",
    "  for i in range(n_iters):\n",
    "    for X_batch, y_batch in loader:\n",
    "      optimizer.zero_grad()\n",
    "      logits = clf(X_batch)\n",
    "      loss = F.cross_entropy(logits,y_batch)\n",
    "      loss.backward()\n",
    "      optimizer.step()\n",
    "    with torch.no_grad():\n",
    "      full_logits = clf(X)\n",
    "      full_loss = F.cross_entropy(full_logits,y)\n",
    "      errors.append(full_loss.item())\n",
    "\n",
    "    if i % 100 == 0:\n",
    "      print(f\"Iter {i}, Loss: {loss:.4f}\")\n",
    "  plt.plot(np.arange(len(errors)), errors)\n",
    "  plt.show()\n",
    "\n",
    "def accuracy(X, y):\n",
    "    with torch.inference_mode():\n",
    "        logits = clf(X)\n",
    "        _, predicted = torch.max(logits, dim=1)\n",
    "        acc = (predicted == y).sum().item() / len(y)\n",
    "        print(f'Accuracy: {acc * 100:.2f}%')\n"
   ],
   "metadata": {
    "id": "viKJIhj4LoIB"
   },
   "execution_count": 12,
   "outputs": []
  },
  {
   "cell_type": "code",
   "source": [
    "start_time = time.time()\n",
    "fit(X_train_tensor,y_train_tensor)\n",
    "end_time = time.time()\n",
    "elapsed_time = end_time - start_time\n",
    "print(elapsed_time)"
   ],
   "metadata": {
    "colab": {
     "base_uri": "https://localhost:8080/",
     "height": 795
    },
    "id": "BOkLvskaM6X_",
    "outputId": "b9f4bfb3-ad10-4bda-da87-b63c013ce430"
   },
   "execution_count": 13,
   "outputs": [
    {
     "output_type": "stream",
     "name": "stdout",
     "text": [
      "Iter 0, Loss: 0.9730\n",
      "Iter 100, Loss: 0.4962\n",
      "Iter 200, Loss: 0.4084\n",
      "Iter 300, Loss: 0.4967\n",
      "Iter 400, Loss: 0.4798\n",
      "Iter 500, Loss: 0.4834\n",
      "Iter 600, Loss: 0.4677\n",
      "Iter 700, Loss: 0.5107\n",
      "Iter 800, Loss: 0.4448\n",
      "Iter 900, Loss: 0.4237\n",
      "Iter 1000, Loss: 0.4579\n",
      "Iter 1100, Loss: 0.4834\n",
      "Iter 1200, Loss: 0.4944\n",
      "Iter 1300, Loss: 0.4505\n",
      "Iter 1400, Loss: 0.4830\n",
      "Iter 1500, Loss: 0.4663\n",
      "Iter 1600, Loss: 0.3946\n",
      "Iter 1700, Loss: 0.4885\n",
      "Iter 1800, Loss: 0.4125\n",
      "Iter 1900, Loss: 0.4673\n"
     ]
    },
    {
     "output_type": "display_data",
     "data": {
      "text/plain": [
       "<Figure size 640x480 with 1 Axes>"
      ],
      "image/png": "[encoded data removed]"
     },
     "metadata": {}
    },
    {
     "output_type": "stream",
     "name": "stdout",
     "text": [
      "106.66918158531189\n"
     ]
    }
   ]
  },
  {
   "cell_type": "code",
   "source": "accuracy(X_test_tensor,y_test_tensor)",
   "metadata": {
    "id": "C5z2n1I5koKV",
    "colab": {
     "base_uri": "https://localhost:8080/"
    },
    "outputId": "679a4c63-6884-41be-bee8-b88db71109e8"
   },
   "execution_count": 66,
   "outputs": [
    {
     "output_type": "stream",
     "name": "stdout",
     "text": [
      "Accuracy: 75.48%\n"
     ]
    }
   ]
  },
  {
   "cell_type": "code",
   "source": "accuracy(X_train_tensor,y_train_tensor)\n",
   "metadata": {
    "id": "9pJizlyslLsk",
    "colab": {
     "base_uri": "https://localhost:8080/"
    },
    "outputId": "11444768-ea3a-4faf-98a3-b1b8027351a2"
   },
   "execution_count": 67,
   "outputs": [
    {
     "output_type": "stream",
     "name": "stdout",
     "text": [
      "Accuracy: 81.80%\n"
     ]
    }
   ]
  },
  {
   "cell_type": "markdown",
   "source": [
    "Accuracy: 75,48% (test_case)\n",
    "\n",
    "\n",
    "Accuracy: 81.80% (train_case)\n",
    "\n"
   ],
   "metadata": {
    "id": "YDMtWBLQ1At7"
   }
  },
  {
   "cell_type": "markdown",
   "source": [
    "Without CUDA T4:\n",
    "Time:106s"
   ],
   "metadata": {
    "id": "I2UZawGG2JKL"
   }
  },
  {
   "cell_type": "markdown",
   "source": [
    "With CUDA T4: Time:89s"
   ],
   "metadata": {
    "id": "LH9c2ASw2UEn"
   }
  }
 ]
}
