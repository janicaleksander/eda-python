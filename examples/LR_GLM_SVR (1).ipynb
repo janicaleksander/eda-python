{
 "cells": [
  {
   "cell_type": "markdown",
   "metadata": {
    "id": "cl7f8AwaBSI5"
   },
   "source": [
    "### Przygotwanie danych"
   ]
  },
  {
   "cell_type": "code",
   "execution_count": null,
   "metadata": {},
   "outputs": [],
   "source": [
    "# pobierzmy ponownie zbiór\n",
    "import urllib.request\n",
    "import os\n",
    "import pandas as pd\n",
    "import matplotlib.pyplot as plt\n",
    "\n",
    "plik = 'GDP_happiness.csv'\n",
    "URL = \"https://byes.pl/wp-content/uploads/datasets/\" + plik\n",
    "if not os.path.isfile(plik):\n",
    "    print('Pobieram plik z ', URL)\n",
    "    urllib.request.urlretrieve(URL, plik)\n",
    "    print('Pobrano plik')\n",
    "else:\n",
    "    print(f'Plik {plik} już jest na dysku')\n",
    "\n",
    "dane = pd.read_csv(plik, index_col=[0])\n",
    "dane = dane.fillna(dane.mean(axis=0))\n",
    "dane.tail()\n",
    "\n",
    "display(dane)\n",
    "\n",
    "X = dane['GDP per capita'].values\n",
    "Y = dane['happiness'].values"
   ]
  },
  {
   "cell_type": "markdown",
   "metadata": {},
   "source": [
    "### Metody z biblioteki [Scikit-learn](https://scikit-learn.org/stable/)"
   ]
  },
  {
   "cell_type": "markdown",
   "metadata": {},
   "source": [
    "Metody uczenia maszynowego, czy to do klasyfikacji, regresji, grupowania, czy dopasowywania rozkładów do danych, dostępne w bibliotece Scikit-learn nazywane są - nie wiedzieć czemu - *estymatorami*. <br>\n",
    "Sposób korzytania z każego estymatora został ujednolicony. Oto przykład regresji liniowej."
   ]
  },
  {
   "cell_type": "code",
   "execution_count": null,
   "metadata": {},
   "outputs": [],
   "source": [
    "from sklearn.linear_model import LinearRegression"
   ]
  },
  {
   "cell_type": "markdown",
   "metadata": {},
   "source": [
    "2. Utworzenie instancji"
   ]
  },
  {
   "cell_type": "code",
   "execution_count": null,
   "metadata": {},
   "outputs": [],
   "source": [
    "model_lin = LinearRegression()"
   ]
  },
  {
   "cell_type": "markdown",
   "metadata": {},
   "source": [
    "3. Dopasowanie *estymatora* do danych metodą ```fit```: patrz komentarz pod algorytmem (4)."
   ]
  },
  {
   "cell_type": "code",
   "execution_count": null,
   "metadata": {},
   "outputs": [],
   "source": [
    "model_lin.fit(X.reshape(-1,1), Y)"
   ]
  },
  {
   "cell_type": "markdown",
   "metadata": {},
   "source": [
    "4. Obliczenia/predykcje z wykorzystaniem metody ```predict``` *estymatora*"
   ]
  },
  {
   "cell_type": "code",
   "execution_count": null,
   "metadata": {},
   "outputs": [],
   "source": [
    "X_test = np.linspace(start=X.min(), stop=X.max(), num=300)\n",
    "Y_pred = model_lin.predict(X_test.reshape(-1,1))\n",
    "\n",
    "plt.scatter(X,Y, alpha=0.7)\n",
    "plt.plot(X_test, Y_pred, color='tab:orange', linewidth=3)\n",
    "plt.xlabel('x')\n",
    "plt.ylabel('y')\n",
    "plt.show()"
   ]
  },
  {
   "cell_type": "markdown",
   "metadata": {},
   "source": [
    "Można też sprawdzić wartości parametrów otrzymanego modeli liniowego."
   ]
  },
  {
   "cell_type": "code",
   "execution_count": null,
   "metadata": {},
   "outputs": [],
   "source": [
    "print(f'Parametry modelu liniowego: a = {np.round(model_lin.coef_,5)}, b = {np.round(model_lin.intercept_,5)}')"
   ]
  },
  {
   "cell_type": "markdown",
   "metadata": {},
   "source": [
    "Oto inne ważne czynności, które wykonuje się w ramach dopasowywania modelu do danych."
   ]
  },
  {
   "cell_type": "markdown",
   "metadata": {},
   "source": [
    "Podział zbioru na część do trenowania i testowania"
   ]
  },
  {
   "cell_type": "code",
   "execution_count": null,
   "metadata": {},
   "outputs": [],
   "source": [
    "from sklearn.model_selection import train_test_split\n",
    "\n",
    "X_train, X_test, Y_train, Y_test = train_test_split(X, Y)"
   ]
  },
  {
   "cell_type": "markdown",
   "metadata": {},
   "source": [
    "Wskaźnik jakości modelu"
   ]
  },
  {
   "cell_type": "code",
   "execution_count": null,
   "metadata": {},
   "outputs": [],
   "source": [
    "from sklearn.metrics import mean_squared_error\n",
    "\n",
    "mean_squared_error(Y, model_lin.predict(X.reshape(-1,1)))"
   ]
  },
  {
   "cell_type": "markdown",
   "metadata": {},
   "source": [
    "Oto **przykład** demonstrujący jednolitość obsługi *estymatorów* biblioteki Scikit-learn"
   ]
  },
  {
   "cell_type": "code",
   "execution_count": null,
   "metadata": {},
   "outputs": [],
   "source": [
    "X = dane['GDP per capita'].values\n",
    "Y = dane['happiness'].values\n",
    "\n",
    "X_train, X_test, Y_train, Y_test = train_test_split(X, Y)\n",
    "\n",
    "# =========  Model liniowy =========\n",
    "from sklearn.linear_model import LinearRegression\n",
    "model_lin = LinearRegression()\n",
    "model_lin.fit(X_train.reshape(-1,1), \n",
    "              Y_train)\n",
    "print(f'Parametry modelu liniowego: {np.round(model_lin.coef_,5)}, {np.round(model_lin.intercept_,5)}')\n",
    "MSE_lin = mean_squared_error(Y_test, model_lin.predict(X_test.reshape(-1,1)))\n",
    "print(f'Błąd średniokwadratowy modelu liniowego: {MSE_lin:0.3}\\n')\n",
    "\n",
    "# ===== Uogólniony model liniowy (ang. Generalized Linear Model) =====\n",
    "from sklearn.preprocessing import PolynomialFeatures\n",
    "model_GLM = LinearRegression()\n",
    "gen_features = PolynomialFeatures(degree=2, include_bias=True, interaction_only=False)\n",
    "model_GLM.fit(gen_features.fit_transform(X_train.reshape(-1,1)), \n",
    "              Y_train)\n",
    "print(f'Parametry modelu GLM: {np.round(model_GLM.coef_,4)}, {np.round(model_GLM.intercept_,5)}')\n",
    "MSE_GLM = mean_squared_error(Y_test, model_GLM.predict(gen_features.fit_transform(X_test.reshape(-1,1))))\n",
    "print(f'Błąd średniokwadratowy modelu GLM: {MSE_GLM:0.3}\\n')\n",
    "\n",
    "#==== Maszyna wektorów wspierających (ang. Support Vector Machine) ====\n",
    "# SVR dla regresji, SVC dla klasyfikacji\n",
    "from sklearn.svm import SVR\n",
    "model_svr = SVR(kernel='rbf', gamma='scale', C=1)\n",
    "model_svr.fit(X_train.reshape(-1,1), \n",
    "              Y_train)\n",
    "MSE_SVR = mean_squared_error(Y_test, model_svr.predict(X_test.reshape(-1,1)))\n",
    "print(f'Błąd średniokwadratowy modelu SVR: {MSE_SVR:0.3}')\n",
    "\n",
    "# Predykcje wszystkich modeli dla całego zakreso osi X\n",
    "os_x = np.linspace(start=X.min(), stop=X.max(), num=300)\n",
    "y_lin_pred = model_lin.predict(os_x.reshape(-1,1))\n",
    "y_GLM_pred = model_GLM.predict(gen_features.fit_transform(os_x.reshape(-1,1)))\n",
    "y_svr_pred = model_svr.predict(os_x.reshape(-1,1))\n",
    "\n",
    "# Wizualizacja\n",
    "plt.figure(figsize=(10,7))\n",
    "plt.scatter(X_train, Y_train, label='dane treningowe', alpha=0.7)\n",
    "plt.scatter(X_test, Y_test, edgecolor='black', facecolor='none', label='dane testujące')\n",
    "plt.plot(os_x, y_lin_pred, label='model liniowy', color='tab:orange')\n",
    "plt.plot(os_x, y_GLM_pred, label=f'model GLM', color='tab:red')\n",
    "plt.plot(os_x, y_svr_pred, label='model SVR', color='tab:green')\n",
    "plt.xlabel(dane.columns[0], fontsize=14)\n",
    "plt.ylabel(dane.columns[1], fontsize=14)\n",
    "plt.legend(fontsize=12, shadow=True, loc='lower right')\n",
    "plt.ylim([Y.min()-0.1, Y.max()+0.5])\n",
    "plt.show()"
   ]
  },
  {
   "cell_type": "markdown",
   "metadata": {},
   "source": [
    "**Zastanów się** <br>\n",
    "Wykonaj wielokrotne dopasowania modeli do różnych podziałów zbioru danych na część do trenowania i do testowania. Wyciągnij wnioski. <br>\n",
    "Jak oceniasz adekwatność każdego z modeli, tzn. czy poprawnie opisuje tendencje obserwowane w danych? <br>\n",
    "Jaki kolejny model proponujesz rozważyć? <br>\n",
    "Jak można ocenić adekwatność modelu w przypadku danych wielowymiarowych?"
   ]
  }
 ],
 "metadata": {
  "colab": {
   "collapsed_sections": [],
   "name": "MSiD_3_metoda najmniejszych kwadratów.ipynb",
   "provenance": []
  },
  "kernelspec": {
   "display_name": "Python 3 (ipykernel)",
   "language": "python",
   "name": "python3"
  },
  "language_info": {
   "codemirror_mode": {
    "name": "ipython",
    "version": 3
   },
   "file_extension": ".py",
   "mimetype": "text/x-python",
   "name": "python",
   "nbconvert_exporter": "python",
   "pygments_lexer": "ipython3",
   "version": "3.11.7"
  }
 },
 "nbformat": 4,
 "nbformat_minor": 1
}
