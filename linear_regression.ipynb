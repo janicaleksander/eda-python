{
 "cells": [
  {
   "metadata": {},
   "cell_type": "code",
   "source": [
    "from sys import implementation\n",
    "\n",
    "import pandas as pd\n",
    "import numpy as np\n",
    "import matplotlib.pyplot as plt\n",
    "# scikit prediction model\n",
    "from sklearn.compose import ColumnTransformer\n",
    "from sklearn.model_selection import train_test_split\n",
    "from sklearn.preprocessing import  OneHotEncoder, StandardScaler\n",
    "from sklearn.impute import SimpleImputer\n",
    "from sklearn.pipeline import Pipeline\n",
    "from sklearn.linear_model  import LinearRegression\n"
   ],
   "id": "33835cf2d3761c20",
   "outputs": [],
   "execution_count": null
  },
  {
   "cell_type": "code",
   "id": "initial_id",
   "metadata": {
    "collapsed": true
   },
   "source": [
    "# Loading data\n",
    "df = pd.read_csv(\"dataset.csv\")\n",
    "df.head()"
   ],
   "outputs": [],
   "execution_count": null
  },
  {
   "metadata": {},
   "cell_type": "code",
   "source": [
    "numerical_features = [\n",
    "    \"Application order\",\"Age at enrollment\", \"Curricular units 1st sem (credited)\", \"Curricular units 1st sem (enrolled)\",\n",
    "    \"Curricular units 1st sem (evaluations)\",\"Curricular units 1st sem (approved)\",\"Curricular units 1st sem (grade)\",\n",
    "    \"Curricular units 1st sem (without evaluations)\",\"Curricular units 2nd sem (credited)\",\"Curricular units 2nd sem (enrolled)\",\n",
    "    \"Curricular units 2nd sem (evaluations)\",\"Curricular units 2nd sem (approved)\",\n",
    "    \"Curricular units 2nd sem (without evaluations)\",\"Unemployment rate\",\"Inflation rate\",\"GDP\"\n",
    "]\n",
    "categorical_features = [\n",
    "    \"Marital status\",\"Application mode\",\"Course\",\"Daytime/evening attendance\",\"Previous qualification\",\"Nationality\",\n",
    "    \"Mother's qualification\",\"Father's qualification\",\"Mother's occupation\",\"Father's occupation\",\"Displaced\",\n",
    "    \"Educational special needs\",\"Debtor\",\"Tuition fees up to date\",\"Gender\",\"Scholarship holder\",\"International\",\"Target\"\n",
    "]\n",
    "\n",
    "target = \"Curricular units 2nd sem (grade)\""
   ],
   "id": "91c3e226173a417b",
   "outputs": [],
   "execution_count": null
  },
  {
   "metadata": {},
   "cell_type": "markdown",
   "source": "I. Mathematical introduction",
   "id": "f8d5ea29c66a33fc"
  },
  {
   "metadata": {},
   "cell_type": "code",
   "source": [
    "categories =[\"x1\",\"x2\",\"x3\"]\n",
    "y_values = [0.14,0.79,1]\n",
    "plt.scatter(categories,y_values)\n",
    "plt.yticks(y_values,[\"y1\",\"y2\",\"y3\"])\n",
    "plt.ylim(bottom=0.0)\n",
    "plt.show()"
   ],
   "id": "286f3e1448c07bfe",
   "outputs": [],
   "execution_count": null
  },
  {
   "metadata": {},
   "cell_type": "markdown",
   "source": [
    "We can see that these points are very close to be fit in one straight line. So we can write system of linear equations which are trying\n",
    "to calculate the same two factors and because of multitude attributes we can only bring closer this straight line to be as closest to every points as it could."
   ],
   "id": "bb1553e63495d1d7"
  },
  {
   "metadata": {},
   "cell_type": "markdown",
   "source": [
    "$$y_1 = \\theta_1*x_1 + \\theta_0$$\n",
    "$$y_2 = \\theta_1*x_2 + \\theta_0$$\n",
    "$$y_3 = \\theta_1*x_3 + \\theta_0$$\n",
    "\n",
    "\n"
   ],
   "id": "18ab719c3ccc6da0"
  },
  {
   "metadata": {},
   "cell_type": "markdown",
   "source": [
    "In general case with $n$ attributes value of predicted formula looks like:\n",
    "$$ \\hat{y} = \\theta_0 + \\theta_1*x_1 + \\theta_2 * x_2 + ... + \\theta_n * x_n$$"
   ],
   "id": "b157a5990cd7b0d2"
  },
  {
   "metadata": {},
   "cell_type": "markdown",
   "source": [
    "Using closed form of linear regression we can calulate this $\\theta$ vector.\n",
    "$$ \\theta = \\left( X^T X \\right)^{-1} X^T y $$\n"
   ],
   "id": "15bca3aaff422628"
  },
  {
   "metadata": {},
   "cell_type": "markdown",
   "source": [
    "Where:\n",
    "- $X$ — vector of input values corresponding to $x_n$ attributes\n",
    "- $y$ — vector of output values corresponding to $y_n$ attributes\n",
    "\n"
   ],
   "id": "95f83fd6584bd484"
  },
  {
   "metadata": {},
   "cell_type": "markdown",
   "source": [
    "$X$ matrix looks like:\n",
    "$$\n",
    "\\begin{bmatrix}\n",
    "1 & x_1 \\\\\n",
    "1 & x_2 \\\\\n",
    "1 & x_3\n",
    "\\end{bmatrix}\n",
    "$$\n",
    "where the first column is for bias ( $\\theta_0$ )"
   ],
   "id": "b6f236b0a3dbabc1"
  },
  {
   "metadata": {},
   "cell_type": "markdown",
   "source": "II. Numpy implementation",
   "id": "38da44616e1c83af"
  },
  {
   "metadata": {},
   "cell_type": "code",
   "source": [
    "X = df.drop([target],axis=1)\n",
    "y = df[target]\n",
    "\n",
    "\n",
    "X_train,X_temp,y_train,y_temp = train_test_split(X,y,train_size=0.4,random_state=42)\n",
    "X_val,X_test,y_val,y_test = train_test_split(X_temp,y_temp,random_state=42,train_size=0.5)\n",
    "\n",
    "preprocessor = ColumnTransformer(\n",
    "    transformers=[\n",
    "        ('num', StandardScaler(), numerical_features),\n",
    "        ('cat', OneHotEncoder(handle_unknown='ignore',sparse_output=False), categorical_features)\n",
    "    ]\n",
    ")\n",
    "X_train_processed = preprocessor.fit_transform(X_train)\n",
    "X_val_processed = preprocessor.transform(X_val)\n",
    "X_test_processed = preprocessor.transform(X_test)\n",
    "\n",
    "\n",
    "\n",
    "#main part\n",
    "X_train = np.c_[np.ones(len(y_train)),X_train_processed]\n",
    "X_test = np.c_[np.ones(len(y_test)),X_test_processed]\n",
    "X_val = np.c_[np.ones(len(y_val)),X_val_processed]\n",
    "\n",
    "\n",
    "# Train on training data\n",
    "theta = np.linalg.pinv(X_train.T @ X_train) @ X_train.T @ y_train\n",
    "\n",
    "\n",
    "#Evaluating score on test data,validation data, and also training data\n",
    "y_pred_on_test = X_test @ theta\n",
    "y_pred_on_train = X_train @ theta\n",
    "y_pred_on_valid = X_val @ theta\n",
    "\n",
    "\n"
   ],
   "id": "377827e19845cd21",
   "outputs": [],
   "execution_count": null
  },
  {
   "metadata": {},
   "cell_type": "markdown",
   "source": "III. Testing and comparing to scikit-learn method",
   "id": "beb7ba8fb93b7ce2"
  },
  {
   "metadata": {},
   "cell_type": "code",
   "source": "from sklearn.metrics import r2_score, mean_absolute_error",
   "id": "3096d21cd1ace1b1",
   "outputs": [],
   "execution_count": null
  },
  {
   "metadata": {},
   "cell_type": "code",
   "source": [
    "r2 = r2_score(y_test, y_pred_on_test)\n",
    "print(f\"R² for y_pred_on_test: {r2}\")\n",
    "mae = mean_absolute_error(y_test, y_pred_on_test)\n",
    "print(f\"MAE for y_pred_on_test: {mae}\")\n",
    "\n",
    "r2 = r2_score(y_train, y_pred_on_train)\n",
    "print(f\"R² for y_pred_on_train: {r2}\")\n",
    "\n",
    "mae = mean_absolute_error(y_train, y_pred_on_train)\n",
    "print(f\"MAE for y_pred_on_train: {mae}\")\n",
    "\n",
    "r2 = r2_score(y_val, y_pred_on_valid)\n",
    "print(f\"R² for y_pred_on_valid: {r2}\")\n",
    "mae = mean_absolute_error(y_val, y_pred_on_valid)\n",
    "print(f\"MAE for y_pred_on_valid: {mae}\")\n"
   ],
   "id": "5e4ebe7c28807148",
   "outputs": [],
   "execution_count": null
  },
  {
   "metadata": {},
   "cell_type": "markdown",
   "source": "IV. Scikit implementation\n",
   "id": "b2fc53ed8d9f336"
  },
  {
   "metadata": {},
   "cell_type": "code",
   "source": [
    "X = df.drop([target], axis=1)\n",
    "y = df[target]\n",
    "X_train,X_temp,y_train,y_temp = train_test_split(X,y,train_size=0.4,random_state=42)\n",
    "X_val,X_test,y_val,y_test = train_test_split(X_temp,y_temp,random_state=42,train_size=0.5)\n",
    "numerical_pipeline = Pipeline([\n",
    "    ('imputer', SimpleImputer(strategy='median')),\n",
    "    ('scaler', StandardScaler())\n",
    "])\n",
    "\n",
    "categorical_pipeline = Pipeline([\n",
    "    ('imputer', SimpleImputer(strategy='most_frequent')),\n",
    "    ('onehot', OneHotEncoder(handle_unknown='ignore'))\n",
    "])\n",
    "\n",
    "preprocessor = ColumnTransformer([\n",
    "    ('num', numerical_pipeline, numerical_features),\n",
    "    ('cat', categorical_pipeline, categorical_features)\n",
    "])\n",
    "\n",
    "regression_pipeline = Pipeline([\n",
    "    ('preprocessor', preprocessor),\n",
    "    ('model', LinearRegression())\n",
    "])\n",
    "\n",
    "regression_pipeline.fit(X_train, y_train)\n",
    "y_pred_on_test = regression_pipeline.predict(X_test)\n",
    "y_pred_on_valid = regression_pipeline.predict(X_val)\n",
    "y_pred_on_train = regression_pipeline.predict(X_train)\n",
    "\n",
    "r2 = r2_score(y_test, y_pred_on_test)\n",
    "print(f\"R² for y_pred_on_test: {r2}\")\n",
    "mae = mean_absolute_error(y_test, y_pred_on_test)\n",
    "print(f\"MAE for y_pred_on_test: {mae}\")\n",
    "\n",
    "r2 = r2_score(y_train, y_pred_on_train)\n",
    "print(f\"R² for y_pred_on_train: {r2}\")\n",
    "\n",
    "mae = mean_absolute_error(y_train, y_pred_on_train)\n",
    "print(f\"MAE for y_pred_on_train: {mae}\")\n",
    "\n",
    "r2 = r2_score(y_val, y_pred_on_valid)\n",
    "print(f\"R² for y_pred_on_valid: {r2}\")\n",
    "mae = mean_absolute_error(y_val, y_pred_on_valid)\n",
    "print(f\"MAE for y_pred_on_valid: {mae}\")\n",
    "\n"
   ],
   "id": "2b6ca34c4e3cd888",
   "outputs": [],
   "execution_count": null
  }
 ],
 "metadata": {
  "kernelspec": {
   "display_name": "Python 3",
   "language": "python",
   "name": "python3"
  },
  "language_info": {
   "codemirror_mode": {
    "name": "ipython",
    "version": 2
   },
   "file_extension": ".py",
   "mimetype": "text/x-python",
   "name": "python",
   "nbconvert_exporter": "python",
   "pygments_lexer": "ipython2",
   "version": "2.7.6"
  }
 },
 "nbformat": 4,
 "nbformat_minor": 5
}
