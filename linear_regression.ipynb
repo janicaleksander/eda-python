{
 "cells": [
  {
   "metadata": {
    "ExecuteTime": {
     "end_time": "2025-04-27T13:34:37.077808Z",
     "start_time": "2025-04-27T13:34:37.072537Z"
    }
   },
   "cell_type": "code",
   "source": [
    "from sys import implementation\n",
    "\n",
    "import pandas as pd\n",
    "import numpy as np\n",
    "import matplotlib.pyplot as plt\n",
    "# scikit prediction model\n",
    "from sklearn.compose import ColumnTransformer\n",
    "from sklearn.model_selection import train_test_split\n",
    "from sklearn.preprocessing import  OneHotEncoder, StandardScaler\n",
    "from sklearn.impute import SimpleImputer\n",
    "from sklearn.pipeline import Pipeline\n",
    "from sklearn.linear_model  import LinearRegression\n"
   ],
   "id": "33835cf2d3761c20",
   "outputs": [],
   "execution_count": 11
  },
  {
   "cell_type": "code",
   "id": "initial_id",
   "metadata": {
    "collapsed": true,
    "ExecuteTime": {
     "end_time": "2025-04-27T12:56:04.580824Z",
     "start_time": "2025-04-27T12:56:04.527263Z"
    }
   },
   "source": [
    "# Loading data\n",
    "df = pd.read_csv(\"dataset.csv\")\n",
    "df.head()"
   ],
   "outputs": [
    {
     "data": {
      "text/plain": [
       "   Marital status  Application mode  Application order  Course  \\\n",
       "0               1                 8                  5       2   \n",
       "1               1                 6                  1      11   \n",
       "2               1                 1                  5       5   \n",
       "3               1                 8                  2      15   \n",
       "4               2                12                  1       3   \n",
       "\n",
       "   Daytime/evening attendance  Previous qualification  Nationality  \\\n",
       "0                           1                       1            1   \n",
       "1                           1                       1            1   \n",
       "2                           1                       1            1   \n",
       "3                           1                       1            1   \n",
       "4                           0                       1            1   \n",
       "\n",
       "   Mother's qualification  Father's qualification  Mother's occupation  ...  \\\n",
       "0                      13                      10                    6  ...   \n",
       "1                       1                       3                    4  ...   \n",
       "2                      22                      27                   10  ...   \n",
       "3                      23                      27                    6  ...   \n",
       "4                      22                      28                   10  ...   \n",
       "\n",
       "   Curricular units 2nd sem (credited)  Curricular units 2nd sem (enrolled)  \\\n",
       "0                                    0                                    0   \n",
       "1                                    0                                    6   \n",
       "2                                    0                                    6   \n",
       "3                                    0                                    6   \n",
       "4                                    0                                    6   \n",
       "\n",
       "   Curricular units 2nd sem (evaluations)  \\\n",
       "0                                       0   \n",
       "1                                       6   \n",
       "2                                       0   \n",
       "3                                      10   \n",
       "4                                       6   \n",
       "\n",
       "   Curricular units 2nd sem (approved)  Curricular units 2nd sem (grade)  \\\n",
       "0                                    0                          0.000000   \n",
       "1                                    6                         13.666667   \n",
       "2                                    0                          0.000000   \n",
       "3                                    5                         12.400000   \n",
       "4                                    6                         13.000000   \n",
       "\n",
       "   Curricular units 2nd sem (without evaluations)  Unemployment rate  \\\n",
       "0                                               0               10.8   \n",
       "1                                               0               13.9   \n",
       "2                                               0               10.8   \n",
       "3                                               0                9.4   \n",
       "4                                               0               13.9   \n",
       "\n",
       "   Inflation rate   GDP    Target  \n",
       "0             1.4  1.74   Dropout  \n",
       "1            -0.3  0.79  Graduate  \n",
       "2             1.4  1.74   Dropout  \n",
       "3            -0.8 -3.12  Graduate  \n",
       "4            -0.3  0.79  Graduate  \n",
       "\n",
       "[5 rows x 35 columns]"
      ],
      "text/html": [
       "<div>\n",
       "<style scoped>\n",
       "    .dataframe tbody tr th:only-of-type {\n",
       "        vertical-align: middle;\n",
       "    }\n",
       "\n",
       "    .dataframe tbody tr th {\n",
       "        vertical-align: top;\n",
       "    }\n",
       "\n",
       "    .dataframe thead th {\n",
       "        text-align: right;\n",
       "    }\n",
       "</style>\n",
       "<table border=\"1\" class=\"dataframe\">\n",
       "  <thead>\n",
       "    <tr style=\"text-align: right;\">\n",
       "      <th></th>\n",
       "      <th>Marital status</th>\n",
       "      <th>Application mode</th>\n",
       "      <th>Application order</th>\n",
       "      <th>Course</th>\n",
       "      <th>Daytime/evening attendance</th>\n",
       "      <th>Previous qualification</th>\n",
       "      <th>Nationality</th>\n",
       "      <th>Mother's qualification</th>\n",
       "      <th>Father's qualification</th>\n",
       "      <th>Mother's occupation</th>\n",
       "      <th>...</th>\n",
       "      <th>Curricular units 2nd sem (credited)</th>\n",
       "      <th>Curricular units 2nd sem (enrolled)</th>\n",
       "      <th>Curricular units 2nd sem (evaluations)</th>\n",
       "      <th>Curricular units 2nd sem (approved)</th>\n",
       "      <th>Curricular units 2nd sem (grade)</th>\n",
       "      <th>Curricular units 2nd sem (without evaluations)</th>\n",
       "      <th>Unemployment rate</th>\n",
       "      <th>Inflation rate</th>\n",
       "      <th>GDP</th>\n",
       "      <th>Target</th>\n",
       "    </tr>\n",
       "  </thead>\n",
       "  <tbody>\n",
       "    <tr>\n",
       "      <th>0</th>\n",
       "      <td>1</td>\n",
       "      <td>8</td>\n",
       "      <td>5</td>\n",
       "      <td>2</td>\n",
       "      <td>1</td>\n",
       "      <td>1</td>\n",
       "      <td>1</td>\n",
       "      <td>13</td>\n",
       "      <td>10</td>\n",
       "      <td>6</td>\n",
       "      <td>...</td>\n",
       "      <td>0</td>\n",
       "      <td>0</td>\n",
       "      <td>0</td>\n",
       "      <td>0</td>\n",
       "      <td>0.000000</td>\n",
       "      <td>0</td>\n",
       "      <td>10.8</td>\n",
       "      <td>1.4</td>\n",
       "      <td>1.74</td>\n",
       "      <td>Dropout</td>\n",
       "    </tr>\n",
       "    <tr>\n",
       "      <th>1</th>\n",
       "      <td>1</td>\n",
       "      <td>6</td>\n",
       "      <td>1</td>\n",
       "      <td>11</td>\n",
       "      <td>1</td>\n",
       "      <td>1</td>\n",
       "      <td>1</td>\n",
       "      <td>1</td>\n",
       "      <td>3</td>\n",
       "      <td>4</td>\n",
       "      <td>...</td>\n",
       "      <td>0</td>\n",
       "      <td>6</td>\n",
       "      <td>6</td>\n",
       "      <td>6</td>\n",
       "      <td>13.666667</td>\n",
       "      <td>0</td>\n",
       "      <td>13.9</td>\n",
       "      <td>-0.3</td>\n",
       "      <td>0.79</td>\n",
       "      <td>Graduate</td>\n",
       "    </tr>\n",
       "    <tr>\n",
       "      <th>2</th>\n",
       "      <td>1</td>\n",
       "      <td>1</td>\n",
       "      <td>5</td>\n",
       "      <td>5</td>\n",
       "      <td>1</td>\n",
       "      <td>1</td>\n",
       "      <td>1</td>\n",
       "      <td>22</td>\n",
       "      <td>27</td>\n",
       "      <td>10</td>\n",
       "      <td>...</td>\n",
       "      <td>0</td>\n",
       "      <td>6</td>\n",
       "      <td>0</td>\n",
       "      <td>0</td>\n",
       "      <td>0.000000</td>\n",
       "      <td>0</td>\n",
       "      <td>10.8</td>\n",
       "      <td>1.4</td>\n",
       "      <td>1.74</td>\n",
       "      <td>Dropout</td>\n",
       "    </tr>\n",
       "    <tr>\n",
       "      <th>3</th>\n",
       "      <td>1</td>\n",
       "      <td>8</td>\n",
       "      <td>2</td>\n",
       "      <td>15</td>\n",
       "      <td>1</td>\n",
       "      <td>1</td>\n",
       "      <td>1</td>\n",
       "      <td>23</td>\n",
       "      <td>27</td>\n",
       "      <td>6</td>\n",
       "      <td>...</td>\n",
       "      <td>0</td>\n",
       "      <td>6</td>\n",
       "      <td>10</td>\n",
       "      <td>5</td>\n",
       "      <td>12.400000</td>\n",
       "      <td>0</td>\n",
       "      <td>9.4</td>\n",
       "      <td>-0.8</td>\n",
       "      <td>-3.12</td>\n",
       "      <td>Graduate</td>\n",
       "    </tr>\n",
       "    <tr>\n",
       "      <th>4</th>\n",
       "      <td>2</td>\n",
       "      <td>12</td>\n",
       "      <td>1</td>\n",
       "      <td>3</td>\n",
       "      <td>0</td>\n",
       "      <td>1</td>\n",
       "      <td>1</td>\n",
       "      <td>22</td>\n",
       "      <td>28</td>\n",
       "      <td>10</td>\n",
       "      <td>...</td>\n",
       "      <td>0</td>\n",
       "      <td>6</td>\n",
       "      <td>6</td>\n",
       "      <td>6</td>\n",
       "      <td>13.000000</td>\n",
       "      <td>0</td>\n",
       "      <td>13.9</td>\n",
       "      <td>-0.3</td>\n",
       "      <td>0.79</td>\n",
       "      <td>Graduate</td>\n",
       "    </tr>\n",
       "  </tbody>\n",
       "</table>\n",
       "<p>5 rows × 35 columns</p>\n",
       "</div>"
      ]
     },
     "execution_count": 2,
     "metadata": {},
     "output_type": "execute_result"
    }
   ],
   "execution_count": 2
  },
  {
   "metadata": {
    "ExecuteTime": {
     "end_time": "2025-04-27T12:56:05.324440Z",
     "start_time": "2025-04-27T12:56:05.318156Z"
    }
   },
   "cell_type": "code",
   "source": [
    "numerical_features = [\n",
    "    \"Application order\",\"Age at enrollment\", \"Curricular units 1st sem (credited)\", \"Curricular units 1st sem (enrolled)\",\n",
    "    \"Curricular units 1st sem (evaluations)\",\"Curricular units 1st sem (approved)\",\"Curricular units 1st sem (grade)\",\n",
    "    \"Curricular units 1st sem (without evaluations)\",\"Curricular units 2nd sem (credited)\",\"Curricular units 2nd sem (enrolled)\",\n",
    "    \"Curricular units 2nd sem (evaluations)\",\"Curricular units 2nd sem (approved)\",\n",
    "    \"Curricular units 2nd sem (without evaluations)\",\"Unemployment rate\",\"Inflation rate\",\"GDP\"\n",
    "]\n",
    "categorical_features = [\n",
    "    \"Marital status\",\"Application mode\",\"Course\",\"Daytime/evening attendance\",\"Previous qualification\",\"Nationality\",\n",
    "    \"Mother's qualification\",\"Father's qualification\",\"Mother's occupation\",\"Father's occupation\",\"Displaced\",\n",
    "    \"Educational special needs\",\"Debtor\",\"Tuition fees up to date\",\"Gender\",\"Scholarship holder\",\"International\",\"Target\"\n",
    "]\n",
    "\n",
    "target = \"Curricular units 2nd sem (grade)\""
   ],
   "id": "91c3e226173a417b",
   "outputs": [],
   "execution_count": 3
  },
  {
   "metadata": {},
   "cell_type": "markdown",
   "source": "I. Mathematical introduction",
   "id": "f8d5ea29c66a33fc"
  },
  {
   "metadata": {
    "ExecuteTime": {
     "end_time": "2025-04-27T12:56:05.553484Z",
     "start_time": "2025-04-27T12:56:05.370580Z"
    }
   },
   "cell_type": "code",
   "source": [
    "categories =[\"x1\",\"x2\",\"x3\"]\n",
    "y_values = [0.14,0.79,1]\n",
    "plt.scatter(categories,y_values)\n",
    "plt.yticks(y_values,[\"y1\",\"y2\",\"y3\"])\n",
    "plt.ylim(bottom=0.0)\n",
    "plt.show()"
   ],
   "id": "286f3e1448c07bfe",
   "outputs": [
    {
     "data": {
      "text/plain": [
       "<Figure size 640x480 with 1 Axes>"
      ],
      "image/png": "[encoded data removed]"
     },
     "metadata": {},
     "output_type": "display_data"
    }
   ],
   "execution_count": 4
  },
  {
   "metadata": {},
   "cell_type": "markdown",
   "source": [
    "We can see that these points are very close to be fit in one straight line. So we can write system of linear equations which are trying\n",
    "to calculate the same two factors and because of multitude attributes we can only bring closer this straight line to be as closest to every points as it could."
   ],
   "id": "bb1553e63495d1d7"
  },
  {
   "metadata": {},
   "cell_type": "markdown",
   "source": [
    "$$y_1 = \\theta_1*x_1 + \\theta_0$$\n",
    "$$y_2 = \\theta_1*x_2 + \\theta_0$$\n",
    "$$y_3 = \\theta_1*x_3 + \\theta_0$$\n",
    "\n",
    "\n"
   ],
   "id": "18ab719c3ccc6da0"
  },
  {
   "metadata": {},
   "cell_type": "markdown",
   "source": [
    "In general case with $n$ attributes value of predicted formula looks like:\n",
    "$$ \\hat{y} = \\theta_0 + \\theta_1*x_1 + \\theta_2 * x_2 + ... + \\theta_n * x_n$$"
   ],
   "id": "b157a5990cd7b0d2"
  },
  {
   "metadata": {},
   "cell_type": "markdown",
   "source": [
    "Using closed form of linear regression we can calulate this $\\theta$ vector.\n",
    "$$ \\theta = \\left( X^T X \\right)^{-1} X^T y $$\n"
   ],
   "id": "15bca3aaff422628"
  },
  {
   "metadata": {},
   "cell_type": "markdown",
   "source": [
    "Where:\n",
    "- $X$ — vector of input values corresponding to $x_n$ attributes\n",
    "- $y$ — vector of output values corresponding to $y_n$ attributes\n",
    "\n"
   ],
   "id": "95f83fd6584bd484"
  },
  {
   "metadata": {},
   "cell_type": "markdown",
   "source": [
    "$X$ matrix looks like:\n",
    "$$\n",
    "\\begin{bmatrix}\n",
    "1 & x_1 \\\\\n",
    "1 & x_2 \\\\\n",
    "1 & x_3\n",
    "\\end{bmatrix}\n",
    "$$\n",
    "where the first column is for bias ( $\\theta_0$ )"
   ],
   "id": "b6f236b0a3dbabc1"
  },
  {
   "metadata": {},
   "cell_type": "markdown",
   "source": "II. Numpy implementation",
   "id": "38da44616e1c83af"
  },
  {
   "metadata": {
    "ExecuteTime": {
     "end_time": "2025-04-27T12:56:05.697306Z",
     "start_time": "2025-04-27T12:56:05.592404Z"
    }
   },
   "cell_type": "code",
   "source": [
    "X = df.drop([target],axis=1)\n",
    "y = df[target]\n",
    "\n",
    "\n",
    "X_train,X_temp,y_train,y_temp = train_test_split(X,y,train_size=0.4,random_state=42)\n",
    "X_val,X_test,y_val,y_test = train_test_split(X_temp,y_temp,random_state=42,train_size=0.5)\n",
    "\n",
    "preprocessor = ColumnTransformer(\n",
    "    transformers=[\n",
    "        ('num', StandardScaler(), numerical_features),\n",
    "        ('cat', OneHotEncoder(handle_unknown='ignore',sparse_output=False), categorical_features)\n",
    "    ]\n",
    ")\n",
    "X_train_processed = preprocessor.fit_transform(X_train)\n",
    "X_val_processed = preprocessor.transform(X_val)\n",
    "X_test_processed = preprocessor.transform(X_test)\n",
    "\n",
    "\n",
    "\n",
    "#main part\n",
    "X_train = np.c_[np.ones(len(y_train)),X_train_processed]\n",
    "X_test = np.c_[np.ones(len(y_test)),X_test_processed]\n",
    "X_val = np.c_[np.ones(len(y_val)),X_val_processed]\n",
    "\n",
    "\n",
    "# Train on training data\n",
    "theta = np.linalg.pinv(X_train.T @ X_train) @ X_train.T @ y_train\n",
    "\n",
    "\n",
    "#Evaluating score on test data,validation data, and also training data\n",
    "y_pred_on_test = X_test @ theta\n",
    "y_pred_on_train = X_train @ theta\n",
    "y_pred_on_valid = X_val @ theta\n",
    "\n",
    "\n"
   ],
   "id": "377827e19845cd21",
   "outputs": [],
   "execution_count": 5
  },
  {
   "metadata": {},
   "cell_type": "markdown",
   "source": "III. Testing and comparing to scikit-learn method",
   "id": "beb7ba8fb93b7ce2"
  },
  {
   "metadata": {
    "ExecuteTime": {
     "end_time": "2025-04-27T12:56:05.806623Z",
     "start_time": "2025-04-27T12:56:05.801904Z"
    }
   },
   "cell_type": "code",
   "source": "from sklearn.metrics import r2_score, mean_absolute_error",
   "id": "3096d21cd1ace1b1",
   "outputs": [],
   "execution_count": 6
  },
  {
   "metadata": {
    "ExecuteTime": {
     "end_time": "2025-04-27T12:56:05.951075Z",
     "start_time": "2025-04-27T12:56:05.921647Z"
    }
   },
   "cell_type": "code",
   "source": [
    "r2 = r2_score(y_test, y_pred_on_test)\n",
    "print(f\"R² for y_pred_on_test: {r2}\")\n",
    "mae = mean_absolute_error(y_test, y_pred_on_test)\n",
    "print(f\"MAE for y_pred_on_test: {mae}\")\n",
    "\n",
    "r2 = r2_score(y_train, y_pred_on_train)\n",
    "print(f\"R² for y_pred_on_train: {r2}\")\n",
    "\n",
    "mae = mean_absolute_error(y_train, y_pred_on_train)\n",
    "print(f\"MAE for y_pred_on_train: {mae}\")\n",
    "\n",
    "r2 = r2_score(y_val, y_pred_on_valid)\n",
    "print(f\"R² for y_pred_on_valid: {r2}\")\n",
    "mae = mean_absolute_error(y_val, y_pred_on_valid)\n",
    "print(f\"MAE for y_pred_on_valid: {mae}\")\n"
   ],
   "id": "5e4ebe7c28807148",
   "outputs": [
    {
     "name": "stdout",
     "output_type": "stream",
     "text": [
      "R² for y_pred_on_test: 0.8312199839493326\n",
      "MAE for y_pred_on_test: 1.5483025402662765\n",
      "R² for y_pred_on_train: 0.8364076966338141\n",
      "MAE for y_pred_on_train: 1.418819432389071\n",
      "R² for y_pred_on_valid: 0.809923793212239\n",
      "MAE for y_pred_on_valid: 1.576820337175782\n"
     ]
    }
   ],
   "execution_count": 7
  },
  {
   "metadata": {},
   "cell_type": "markdown",
   "source": "IV. Scikit implementation\n",
   "id": "b2fc53ed8d9f336"
  },
  {
   "metadata": {
    "ExecuteTime": {
     "end_time": "2025-04-27T12:56:06.325003Z",
     "start_time": "2025-04-27T12:56:06.151484Z"
    }
   },
   "cell_type": "code",
   "source": [
    "X = df.drop([target], axis=1)\n",
    "y = df[target]\n",
    "X_train,X_temp,y_train,y_temp = train_test_split(X,y,train_size=0.4,random_state=42)\n",
    "X_val,X_test,y_val,y_test = train_test_split(X_temp,y_temp,random_state=42,train_size=0.5)\n",
    "numerical_pipeline = Pipeline([\n",
    "    ('imputer', SimpleImputer(strategy='median')),\n",
    "    ('scaler', StandardScaler())\n",
    "])\n",
    "\n",
    "categorical_pipeline = Pipeline([\n",
    "    ('imputer', SimpleImputer(strategy='most_frequent')),\n",
    "    ('onehot', OneHotEncoder(handle_unknown='ignore'))\n",
    "])\n",
    "\n",
    "preprocessor = ColumnTransformer([\n",
    "    ('num', numerical_pipeline, numerical_features),\n",
    "    ('cat', categorical_pipeline, categorical_features)\n",
    "])\n",
    "\n",
    "regression_pipeline = Pipeline([\n",
    "    ('preprocessor', preprocessor),\n",
    "    ('model', LinearRegression())\n",
    "])\n",
    "\n",
    "regression_pipeline.fit(X_train, y_train)\n",
    "y_pred_on_test = regression_pipeline.predict(X_test)\n",
    "y_pred_on_valid = regression_pipeline.predict(X_val)\n",
    "y_pred_on_train = regression_pipeline.predict(X_train)\n",
    "\n",
    "r2 = r2_score(y_test, y_pred_on_test)\n",
    "print(f\"R² for y_pred_on_test: {r2}\")\n",
    "mae = mean_absolute_error(y_test, y_pred_on_test)\n",
    "print(f\"MAE for y_pred_on_test: {mae}\")\n",
    "\n",
    "r2 = r2_score(y_train, y_pred_on_train)\n",
    "print(f\"R² for y_pred_on_train: {r2}\")\n",
    "\n",
    "mae = mean_absolute_error(y_train, y_pred_on_train)\n",
    "print(f\"MAE for y_pred_on_train: {mae}\")\n",
    "\n",
    "r2 = r2_score(y_val, y_pred_on_valid)\n",
    "print(f\"R² for y_pred_on_valid: {r2}\")\n",
    "mae = mean_absolute_error(y_val, y_pred_on_valid)\n",
    "print(f\"MAE for y_pred_on_valid: {mae}\")\n",
    "\n"
   ],
   "id": "2b6ca34c4e3cd888",
   "outputs": [
    {
     "name": "stdout",
     "output_type": "stream",
     "text": [
      "R² for y_pred_on_test: 0.8313185087578865\n",
      "MAE for y_pred_on_test: 1.5476400836283353\n",
      "R² for y_pred_on_train: 0.8364076809948044\n",
      "MAE for y_pred_on_train: 1.418885695189249\n",
      "R² for y_pred_on_valid: 0.8099401627799723\n",
      "MAE for y_pred_on_valid: 1.5764671674331825\n"
     ]
    }
   ],
   "execution_count": 9
  }
 ],
 "metadata": {
  "kernelspec": {
   "display_name": "Python 3",
   "language": "python",
   "name": "python3"
  },
  "language_info": {
   "codemirror_mode": {
    "name": "ipython",
    "version": 2
   },
   "file_extension": ".py",
   "mimetype": "text/x-python",
   "name": "python",
   "nbconvert_exporter": "python",
   "pygments_lexer": "ipython2",
   "version": "2.7.6"
  }
 },
 "nbformat": 4,
 "nbformat_minor": 5
}
